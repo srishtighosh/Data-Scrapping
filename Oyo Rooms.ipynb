{
 "cells": [
  {
   "cell_type": "markdown",
   "metadata": {},
   "source": [
    "## Oyo Rooms:"
   ]
  },
  {
   "cell_type": "code",
   "execution_count": 1,
   "metadata": {},
   "outputs": [],
   "source": [
    "#URL used: https://www.oyorooms.com/hotels-in-coimbatore/"
   ]
  },
  {
   "cell_type": "code",
   "execution_count": 2,
   "metadata": {},
   "outputs": [],
   "source": [
    "import pandas as pd\n",
    "import numpy as np\n",
    "from bs4 import BeautifulSoup\n",
    "import re\n",
    "import requests\n",
    "import os\n",
    "from selenium import webdriver    \n",
    "path_tounzipfile='C:/Users/Srishti/Desktop/Data Science/Data Scrapping & Wrangling/geckodriver-v0.25.0-win64'\n",
    "os.chdir(path_tounzipfile)"
   ]
  },
  {
   "cell_type": "code",
   "execution_count": 3,
   "metadata": {},
   "outputs": [],
   "source": [
    "url_oyo='https://www.oyorooms.com/hotels-in-coimbatore/?page=4'\n",
    "browser=webdriver.Firefox(path_tounzipfile)\n",
    "browser.get(url_oyo)\n",
    "html_oyo=browser.page_source\n",
    "soup_oyo=BeautifulSoup(html_oyo,'html.parser')    "
   ]
  },
  {
   "cell_type": "code",
   "execution_count": 4,
   "metadata": {},
   "outputs": [
    {
     "data": {
      "text/plain": [
       "10"
      ]
     },
     "execution_count": 4,
     "metadata": {},
     "output_type": "execute_result"
    }
   ],
   "source": [
    "listings=soup_oyo.find_all('div',class_='hotelCardListing__descriptionWrapper')\n",
    "len(listings)"
   ]
  },
  {
   "cell_type": "code",
   "execution_count": 5,
   "metadata": {},
   "outputs": [
    {
     "data": {
      "text/plain": [
       "[<h3 class=\"listingHotelDescription__hotelName d-textEllipsis\" itemprop=\"name\" title=\"OYO TOWNHOUSE 174 Gandhipuram\">OYO TOWNHOUSE 174 Gandhipuram</h3>]"
      ]
     },
     "execution_count": 5,
     "metadata": {},
     "output_type": "execute_result"
    }
   ],
   "source": [
    "listings[0].find_all('h3',class_='listingHotelDescription__hotelName d-textEllipsis')"
   ]
  },
  {
   "cell_type": "code",
   "execution_count": 6,
   "metadata": {},
   "outputs": [
    {
     "data": {
      "text/plain": [
       "[]"
      ]
     },
     "execution_count": 6,
     "metadata": {},
     "output_type": "execute_result"
    }
   ],
   "source": [
    "listings[0].find_all('span',class_='listingPrice__finalPrice')"
   ]
  },
  {
   "cell_type": "code",
   "execution_count": 7,
   "metadata": {},
   "outputs": [],
   "source": [
    "##Experiment with page 5:\n",
    "url_oyo='https://www.oyorooms.com/hotels-in-coimbatore/?page=5'\n",
    "browser=webdriver.Firefox(path_tounzipfile)\n",
    "browser.get(url_oyo)\n",
    "html_oyo=browser.page_source\n",
    "soup_oyo=BeautifulSoup(html_oyo,'html.parser')"
   ]
  },
  {
   "cell_type": "code",
   "execution_count": 8,
   "metadata": {},
   "outputs": [
    {
     "data": {
      "text/plain": [
       "0"
      ]
     },
     "execution_count": 8,
     "metadata": {},
     "output_type": "execute_result"
    }
   ],
   "source": [
    "listings=soup_oyo.find_all('div',class_='hotelCardListing__descriptionWrapper')\n",
    "len(listings)"
   ]
  },
  {
   "cell_type": "code",
   "execution_count": 29,
   "metadata": {},
   "outputs": [
    {
     "data": {
      "text/plain": [
       "[]"
      ]
     },
     "execution_count": 29,
     "metadata": {},
     "output_type": "execute_result"
    }
   ],
   "source": [
    "listings[0].find_all('span',class_='listingPrice__finalPrice')"
   ]
  },
  {
   "cell_type": "code",
   "execution_count": 10,
   "metadata": {},
   "outputs": [],
   "source": [
    "#develop the full logic:\n",
    "url_oyo='https://www.oyorooms.com/hotels-in-coimbatore/?page=4'\n",
    "browser=webdriver.Firefox(path_tounzipfile)\n",
    "browser.get(url_oyo)\n",
    "html_oyo=browser.page_source\n",
    "soup_oyo=BeautifulSoup(html_oyo,'html.parser')"
   ]
  },
  {
   "cell_type": "code",
   "execution_count": 11,
   "metadata": {},
   "outputs": [
    {
     "data": {
      "text/plain": [
       "10"
      ]
     },
     "execution_count": 11,
     "metadata": {},
     "output_type": "execute_result"
    }
   ],
   "source": [
    "listings=soup_oyo.find_all('div',class_='hotelCardListing__descriptionWrapper')\n",
    "len(listings)"
   ]
  },
  {
   "cell_type": "code",
   "execution_count": 12,
   "metadata": {},
   "outputs": [],
   "source": [
    "browser=webdriver.Firefox(path_tounzipfile)\n",
    "def get_data(url):\n",
    "    browser.get(url)\n",
    "    html_oyo=browser.page_source\n",
    "    soup_oyo=BeautifulSoup(html_oyo,'html.parser')\n",
    "    listings=soup_oyo.find_all('div',class_='hotelCardListing__descriptionWrapper')\n",
    "    name=[]\n",
    "    address=[]\n",
    "    ratings=[]\n",
    "    price=[]\n",
    "    \n",
    "    for i in listings:\n",
    "\n",
    "        n=i.find_all('h3',class_='listingHotelDescription__hotelName d-textEllipsis')\n",
    "        if len(n)!=0:\n",
    "            name.append(n[0].text)\n",
    "        else:\n",
    "            name.append(np.nan)\n",
    "\n",
    "        adrs=i.find_all('span',itemprop='streetAddress')\n",
    "        if len(adrs)!=0:\n",
    "            address.append(adrs[0].text)\n",
    "        else:\n",
    "            address.append(np.nan)\n",
    "\n",
    "        rating=i.find_all('meta',itemprop='ratingValue')\n",
    "        if len(rating)!=0:\n",
    "            ratings.append(rating[0]['content'])\n",
    "        else:\n",
    "            ratings.append(np.nan)\n",
    "\n",
    "        pr=i.find_all('span',class_='listingPrice__finalPrice')\n",
    "        if len(pr)!=0:\n",
    "            price.append(pr[0].text)\n",
    "        else:\n",
    "            price.append(np.nan)\n",
    "    data_frame=pd.DataFrame({'name':name,'address':address,'ratings':ratings,'price':price})\n",
    "    return data_frame\n",
    "\n",
    "#url_test='https://www.oyorooms.com/hotels-in-coimbatore/?page=2'\n",
    "#get_data(url_test)\n",
    "\n",
    "base_url='https://www.oyorooms.com/hotels-in-coimbatore/?page={}'\n",
    "master={}\n",
    "for i in range(1,6):\n",
    "    base_url_list=base_url.format(i)\n",
    "    master[i]=get_data(base_url_list)"
   ]
  },
  {
   "cell_type": "code",
   "execution_count": 13,
   "metadata": {},
   "outputs": [
    {
     "data": {
      "text/html": [
       "<div>\n",
       "<style scoped>\n",
       "    .dataframe tbody tr th:only-of-type {\n",
       "        vertical-align: middle;\n",
       "    }\n",
       "\n",
       "    .dataframe tbody tr th {\n",
       "        vertical-align: top;\n",
       "    }\n",
       "\n",
       "    .dataframe thead th {\n",
       "        text-align: right;\n",
       "    }\n",
       "</style>\n",
       "<table border=\"1\" class=\"dataframe\">\n",
       "  <thead>\n",
       "    <tr style=\"text-align: right;\">\n",
       "      <th></th>\n",
       "      <th>name</th>\n",
       "      <th>address</th>\n",
       "      <th>ratings</th>\n",
       "      <th>price</th>\n",
       "    </tr>\n",
       "  </thead>\n",
       "  <tbody>\n",
       "    <tr>\n",
       "      <th>0</th>\n",
       "      <td>OYO Townhouse 124 Srm Kuppakonam Pudur</td>\n",
       "      <td>Near Tatabad, Coimbatore</td>\n",
       "      <td>4.4</td>\n",
       "      <td>₹1394</td>\n",
       "    </tr>\n",
       "    <tr>\n",
       "      <th>1</th>\n",
       "      <td>SilverKey Executive Stays 17281 Athithi Inn De...</td>\n",
       "      <td>Near Aathi Maaruthi, Vetri Vinayagar Nagar, Co...</td>\n",
       "      <td>4.3</td>\n",
       "      <td>₹775</td>\n",
       "    </tr>\n",
       "    <tr>\n",
       "      <th>2</th>\n",
       "      <td>OYO 28079 Global Stay</td>\n",
       "      <td>Near Singanallur Lake, Nanjappa Nagar, Coimbatore</td>\n",
       "      <td>3.9</td>\n",
       "      <td>₹1010</td>\n",
       "    </tr>\n",
       "    <tr>\n",
       "      <th>3</th>\n",
       "      <td>Capital O 48497 Raksha Grand</td>\n",
       "      <td>, Coimbatore</td>\n",
       "      <td>4.8</td>\n",
       "      <td>₹996</td>\n",
       "    </tr>\n",
       "    <tr>\n",
       "      <th>4</th>\n",
       "      <td>SilverKey Executive Stays 24155 FCI Nagar</td>\n",
       "      <td>Near Saravanampatti Check Post, Coimbatore</td>\n",
       "      <td>4.2</td>\n",
       "      <td>₹937</td>\n",
       "    </tr>\n",
       "  </tbody>\n",
       "</table>\n",
       "</div>"
      ],
      "text/plain": [
       "                                                name  \\\n",
       "0             OYO Townhouse 124 Srm Kuppakonam Pudur   \n",
       "1  SilverKey Executive Stays 17281 Athithi Inn De...   \n",
       "2                              OYO 28079 Global Stay   \n",
       "3                       Capital O 48497 Raksha Grand   \n",
       "4          SilverKey Executive Stays 24155 FCI Nagar   \n",
       "\n",
       "                                             address ratings  price  \n",
       "0                           Near Tatabad, Coimbatore     4.4  ₹1394  \n",
       "1  Near Aathi Maaruthi, Vetri Vinayagar Nagar, Co...     4.3   ₹775  \n",
       "2  Near Singanallur Lake, Nanjappa Nagar, Coimbatore     3.9  ₹1010  \n",
       "3                                       , Coimbatore     4.8   ₹996  \n",
       "4         Near Saravanampatti Check Post, Coimbatore     4.2   ₹937  "
      ]
     },
     "execution_count": 13,
     "metadata": {},
     "output_type": "execute_result"
    }
   ],
   "source": [
    "master[1].head()"
   ]
  },
  {
   "cell_type": "code",
   "execution_count": 14,
   "metadata": {},
   "outputs": [
    {
     "data": {
      "text/html": [
       "<div>\n",
       "<style scoped>\n",
       "    .dataframe tbody tr th:only-of-type {\n",
       "        vertical-align: middle;\n",
       "    }\n",
       "\n",
       "    .dataframe tbody tr th {\n",
       "        vertical-align: top;\n",
       "    }\n",
       "\n",
       "    .dataframe thead th {\n",
       "        text-align: right;\n",
       "    }\n",
       "</style>\n",
       "<table border=\"1\" class=\"dataframe\">\n",
       "  <thead>\n",
       "    <tr style=\"text-align: right;\">\n",
       "      <th></th>\n",
       "      <th>name</th>\n",
       "      <th>address</th>\n",
       "      <th>ratings</th>\n",
       "      <th>price</th>\n",
       "    </tr>\n",
       "  </thead>\n",
       "  <tbody>\n",
       "  </tbody>\n",
       "</table>\n",
       "</div>"
      ],
      "text/plain": [
       "Empty DataFrame\n",
       "Columns: [name, address, ratings, price]\n",
       "Index: []"
      ]
     },
     "execution_count": 14,
     "metadata": {},
     "output_type": "execute_result"
    }
   ],
   "source": [
    "master[5].tail()"
   ]
  },
  {
   "cell_type": "code",
   "execution_count": 15,
   "metadata": {},
   "outputs": [
    {
     "data": {
      "text/html": [
       "<div>\n",
       "<style scoped>\n",
       "    .dataframe tbody tr th:only-of-type {\n",
       "        vertical-align: middle;\n",
       "    }\n",
       "\n",
       "    .dataframe tbody tr th {\n",
       "        vertical-align: top;\n",
       "    }\n",
       "\n",
       "    .dataframe thead th {\n",
       "        text-align: right;\n",
       "    }\n",
       "</style>\n",
       "<table border=\"1\" class=\"dataframe\">\n",
       "  <thead>\n",
       "    <tr style=\"text-align: right;\">\n",
       "      <th></th>\n",
       "      <th>name</th>\n",
       "      <th>address</th>\n",
       "      <th>ratings</th>\n",
       "      <th>price</th>\n",
       "    </tr>\n",
       "  </thead>\n",
       "  <tbody>\n",
       "    <tr>\n",
       "      <th>5</th>\n",
       "      <td>OYO 15427 Hotel Apple Grand Deluxe</td>\n",
       "      <td>4th Extension, 100 Feet Road, Coimbatore</td>\n",
       "      <td>4</td>\n",
       "      <td>NaN</td>\n",
       "    </tr>\n",
       "    <tr>\n",
       "      <th>6</th>\n",
       "      <td>SPOT ON 42738 Thangam Lodge</td>\n",
       "      <td>Near Gandhipuram Town Bu Stand, Coimbatore</td>\n",
       "      <td>4.1</td>\n",
       "      <td>NaN</td>\n",
       "    </tr>\n",
       "    <tr>\n",
       "      <th>7</th>\n",
       "      <td>OYO 45997 Gsn Residency Saver</td>\n",
       "      <td>Near Skoda showroom, Coimbatore</td>\n",
       "      <td>4.3</td>\n",
       "      <td>NaN</td>\n",
       "    </tr>\n",
       "    <tr>\n",
       "      <th>8</th>\n",
       "      <td>OYO Flagship 35720 Sai Renu Vadavalli</td>\n",
       "      <td>Near Arun Nagar Park, Coimbatotre</td>\n",
       "      <td>4.3</td>\n",
       "      <td>NaN</td>\n",
       "    </tr>\n",
       "    <tr>\n",
       "      <th>9</th>\n",
       "      <td>OYO 1531 Vels Grand Inn Hotel</td>\n",
       "      <td>Gandhipuram, Coimbatore</td>\n",
       "      <td>4.1</td>\n",
       "      <td>NaN</td>\n",
       "    </tr>\n",
       "  </tbody>\n",
       "</table>\n",
       "</div>"
      ],
      "text/plain": [
       "                                    name  \\\n",
       "5     OYO 15427 Hotel Apple Grand Deluxe   \n",
       "6            SPOT ON 42738 Thangam Lodge   \n",
       "7          OYO 45997 Gsn Residency Saver   \n",
       "8  OYO Flagship 35720 Sai Renu Vadavalli   \n",
       "9          OYO 1531 Vels Grand Inn Hotel   \n",
       "\n",
       "                                      address ratings price  \n",
       "5    4th Extension, 100 Feet Road, Coimbatore       4   NaN  \n",
       "6  Near Gandhipuram Town Bu Stand, Coimbatore     4.1   NaN  \n",
       "7             Near Skoda showroom, Coimbatore     4.3   NaN  \n",
       "8           Near Arun Nagar Park, Coimbatotre     4.3   NaN  \n",
       "9                     Gandhipuram, Coimbatore     4.1   NaN  "
      ]
     },
     "execution_count": 15,
     "metadata": {},
     "output_type": "execute_result"
    }
   ],
   "source": [
    "table=pd.concat([master[i] for i in master],axis=0)\n",
    "table.tail()"
   ]
  },
  {
   "cell_type": "code",
   "execution_count": 16,
   "metadata": {},
   "outputs": [
    {
     "data": {
      "text/html": [
       "<div>\n",
       "<style scoped>\n",
       "    .dataframe tbody tr th:only-of-type {\n",
       "        vertical-align: middle;\n",
       "    }\n",
       "\n",
       "    .dataframe tbody tr th {\n",
       "        vertical-align: top;\n",
       "    }\n",
       "\n",
       "    .dataframe thead th {\n",
       "        text-align: right;\n",
       "    }\n",
       "</style>\n",
       "<table border=\"1\" class=\"dataframe\">\n",
       "  <thead>\n",
       "    <tr style=\"text-align: right;\">\n",
       "      <th></th>\n",
       "      <th>name</th>\n",
       "      <th>address</th>\n",
       "      <th>ratings</th>\n",
       "      <th>price</th>\n",
       "    </tr>\n",
       "  </thead>\n",
       "  <tbody>\n",
       "    <tr>\n",
       "      <th>0</th>\n",
       "      <td>OYO Townhouse 124 Srm Kuppakonam Pudur</td>\n",
       "      <td>Near Tatabad, Coimbatore</td>\n",
       "      <td>4.4</td>\n",
       "      <td>1394.0</td>\n",
       "    </tr>\n",
       "    <tr>\n",
       "      <th>1</th>\n",
       "      <td>SilverKey Executive Stays 17281 Athithi Inn De...</td>\n",
       "      <td>Near Aathi Maaruthi, Vetri Vinayagar Nagar, Co...</td>\n",
       "      <td>4.3</td>\n",
       "      <td>775.0</td>\n",
       "    </tr>\n",
       "    <tr>\n",
       "      <th>2</th>\n",
       "      <td>OYO 28079 Global Stay</td>\n",
       "      <td>Near Singanallur Lake, Nanjappa Nagar, Coimbatore</td>\n",
       "      <td>3.9</td>\n",
       "      <td>1010.0</td>\n",
       "    </tr>\n",
       "    <tr>\n",
       "      <th>3</th>\n",
       "      <td>Capital O 48497 Raksha Grand</td>\n",
       "      <td>, Coimbatore</td>\n",
       "      <td>4.8</td>\n",
       "      <td>996.0</td>\n",
       "    </tr>\n",
       "    <tr>\n",
       "      <th>4</th>\n",
       "      <td>SilverKey Executive Stays 24155 FCI Nagar</td>\n",
       "      <td>Near Saravanampatti Check Post, Coimbatore</td>\n",
       "      <td>4.2</td>\n",
       "      <td>937.0</td>\n",
       "    </tr>\n",
       "  </tbody>\n",
       "</table>\n",
       "</div>"
      ],
      "text/plain": [
       "                                                name  \\\n",
       "0             OYO Townhouse 124 Srm Kuppakonam Pudur   \n",
       "1  SilverKey Executive Stays 17281 Athithi Inn De...   \n",
       "2                              OYO 28079 Global Stay   \n",
       "3                       Capital O 48497 Raksha Grand   \n",
       "4          SilverKey Executive Stays 24155 FCI Nagar   \n",
       "\n",
       "                                             address ratings   price  \n",
       "0                           Near Tatabad, Coimbatore     4.4  1394.0  \n",
       "1  Near Aathi Maaruthi, Vetri Vinayagar Nagar, Co...     4.3   775.0  \n",
       "2  Near Singanallur Lake, Nanjappa Nagar, Coimbatore     3.9  1010.0  \n",
       "3                                       , Coimbatore     4.8   996.0  \n",
       "4         Near Saravanampatti Check Post, Coimbatore     4.2   937.0  "
      ]
     },
     "execution_count": 16,
     "metadata": {},
     "output_type": "execute_result"
    }
   ],
   "source": [
    "#clean price:\n",
    "table['price']=table['price'].str.replace('₹','').astype('float')\n",
    "table.head()"
   ]
  },
  {
   "cell_type": "code",
   "execution_count": 17,
   "metadata": {},
   "outputs": [
    {
     "data": {
      "text/html": [
       "<div>\n",
       "<style scoped>\n",
       "    .dataframe tbody tr th:only-of-type {\n",
       "        vertical-align: middle;\n",
       "    }\n",
       "\n",
       "    .dataframe tbody tr th {\n",
       "        vertical-align: top;\n",
       "    }\n",
       "\n",
       "    .dataframe thead th {\n",
       "        text-align: right;\n",
       "    }\n",
       "</style>\n",
       "<table border=\"1\" class=\"dataframe\">\n",
       "  <thead>\n",
       "    <tr style=\"text-align: right;\">\n",
       "      <th></th>\n",
       "      <th>name</th>\n",
       "      <th>address</th>\n",
       "      <th>ratings</th>\n",
       "      <th>price</th>\n",
       "    </tr>\n",
       "  </thead>\n",
       "  <tbody>\n",
       "    <tr>\n",
       "      <th>0</th>\n",
       "      <td>OYO Townhouse 124 Srm Kuppakonam Pudur</td>\n",
       "      <td>Near Tatabad, Coimbatore</td>\n",
       "      <td>4.4</td>\n",
       "      <td>1394.0</td>\n",
       "    </tr>\n",
       "    <tr>\n",
       "      <th>1</th>\n",
       "      <td>SilverKey Executive Stays 17281 Athithi Inn De...</td>\n",
       "      <td>Near Aathi Maaruthi, Vetri Vinayagar Nagar, Co...</td>\n",
       "      <td>4.3</td>\n",
       "      <td>775.0</td>\n",
       "    </tr>\n",
       "    <tr>\n",
       "      <th>2</th>\n",
       "      <td>OYO 28079 Global Stay</td>\n",
       "      <td>Near Singanallur Lake, Nanjappa Nagar, Coimbatore</td>\n",
       "      <td>3.9</td>\n",
       "      <td>1010.0</td>\n",
       "    </tr>\n",
       "    <tr>\n",
       "      <th>3</th>\n",
       "      <td>Capital O 48497 Raksha Grand</td>\n",
       "      <td>, Coimbatore</td>\n",
       "      <td>4.8</td>\n",
       "      <td>996.0</td>\n",
       "    </tr>\n",
       "    <tr>\n",
       "      <th>4</th>\n",
       "      <td>SilverKey Executive Stays 24155 FCI Nagar</td>\n",
       "      <td>Near Saravanampatti Check Post, Coimbatore</td>\n",
       "      <td>4.2</td>\n",
       "      <td>937.0</td>\n",
       "    </tr>\n",
       "  </tbody>\n",
       "</table>\n",
       "</div>"
      ],
      "text/plain": [
       "                                                name  \\\n",
       "0             OYO Townhouse 124 Srm Kuppakonam Pudur   \n",
       "1  SilverKey Executive Stays 17281 Athithi Inn De...   \n",
       "2                              OYO 28079 Global Stay   \n",
       "3                       Capital O 48497 Raksha Grand   \n",
       "4          SilverKey Executive Stays 24155 FCI Nagar   \n",
       "\n",
       "                                             address  ratings   price  \n",
       "0                           Near Tatabad, Coimbatore      4.4  1394.0  \n",
       "1  Near Aathi Maaruthi, Vetri Vinayagar Nagar, Co...      4.3   775.0  \n",
       "2  Near Singanallur Lake, Nanjappa Nagar, Coimbatore      3.9  1010.0  \n",
       "3                                       , Coimbatore      4.8   996.0  \n",
       "4         Near Saravanampatti Check Post, Coimbatore      4.2   937.0  "
      ]
     },
     "execution_count": 17,
     "metadata": {},
     "output_type": "execute_result"
    }
   ],
   "source": [
    "#Cleaning rating:\n",
    "table['ratings']=table['ratings'].astype('float')\n",
    "table.head()"
   ]
  },
  {
   "cell_type": "code",
   "execution_count": null,
   "metadata": {},
   "outputs": [],
   "source": []
  }
 ],
 "metadata": {
  "kernelspec": {
   "display_name": "Python 3",
   "language": "python",
   "name": "python3"
  },
  "language_info": {
   "codemirror_mode": {
    "name": "ipython",
    "version": 3
   },
   "file_extension": ".py",
   "mimetype": "text/x-python",
   "name": "python",
   "nbconvert_exporter": "python",
   "pygments_lexer": "ipython3",
   "version": "3.7.3"
  }
 },
 "nbformat": 4,
 "nbformat_minor": 2
}
