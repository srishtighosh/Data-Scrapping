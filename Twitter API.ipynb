{
 "cells": [
  {
   "cell_type": "code",
   "execution_count": 2,
   "metadata": {},
   "outputs": [
    {
     "name": "stdout",
     "output_type": "stream",
     "text": [
      "Collecting tweepy\n",
      "  Downloading https://files.pythonhosted.org/packages/36/1b/2bd38043d22ade352fc3d3902cf30ce0e2f4bf285be3b304a2782a767aec/tweepy-3.8.0-py2.py3-none-any.whl\n",
      "Collecting requests-oauthlib>=0.7.0 (from tweepy)\n",
      "  Downloading https://files.pythonhosted.org/packages/c2/e2/9fd03d55ffb70fe51f587f20bcf407a6927eb121de86928b34d162f0b1ac/requests_oauthlib-1.2.0-py2.py3-none-any.whl\n",
      "Requirement already satisfied: six>=1.10.0 in c:\\users\\srishti\\appdata\\local\\continuum\\anaconda3\\lib\\site-packages (from tweepy) (1.12.0)\n",
      "Requirement already satisfied: requests>=2.11.1 in c:\\users\\srishti\\appdata\\local\\continuum\\anaconda3\\lib\\site-packages (from tweepy) (2.21.0)\n",
      "Requirement already satisfied: PySocks>=1.5.7 in c:\\users\\srishti\\appdata\\local\\continuum\\anaconda3\\lib\\site-packages (from tweepy) (1.6.8)\n",
      "Collecting oauthlib>=3.0.0 (from requests-oauthlib>=0.7.0->tweepy)\n",
      "  Downloading https://files.pythonhosted.org/packages/05/57/ce2e7a8fa7c0afb54a0581b14a65b56e62b5759dbc98e80627142b8a3704/oauthlib-3.1.0-py2.py3-none-any.whl (147kB)\n",
      "Requirement already satisfied: certifi>=2017.4.17 in c:\\users\\srishti\\appdata\\local\\continuum\\anaconda3\\lib\\site-packages (from requests>=2.11.1->tweepy) (2019.3.9)\n",
      "Requirement already satisfied: urllib3<1.25,>=1.21.1 in c:\\users\\srishti\\appdata\\local\\continuum\\anaconda3\\lib\\site-packages (from requests>=2.11.1->tweepy) (1.24.1)\n",
      "Requirement already satisfied: idna<2.9,>=2.5 in c:\\users\\srishti\\appdata\\local\\continuum\\anaconda3\\lib\\site-packages (from requests>=2.11.1->tweepy) (2.8)\n",
      "Requirement already satisfied: chardet<3.1.0,>=3.0.2 in c:\\users\\srishti\\appdata\\local\\continuum\\anaconda3\\lib\\site-packages (from requests>=2.11.1->tweepy) (3.0.4)\n",
      "Installing collected packages: oauthlib, requests-oauthlib, tweepy\n",
      "Successfully installed oauthlib-3.1.0 requests-oauthlib-1.2.0 tweepy-3.8.0\n"
     ]
    }
   ],
   "source": [
    "#Twitter uses tweepy package\n",
    "#!pip install tweepy   "
   ]
  },
  {
   "cell_type": "code",
   "execution_count": 3,
   "metadata": {},
   "outputs": [],
   "source": [
    "import pandas as pd\n",
    "import numpy as np\n",
    "import tqdm\n",
    "from bs4 import BeautifulSoup\n",
    "import re\n",
    "import requests\n",
    "import tweepy"
   ]
  },
  {
   "cell_type": "code",
   "execution_count": 4,
   "metadata": {},
   "outputs": [],
   "source": [
    "api_key=\"yfXmIGschfr4EWn8puWzfsapq\"\n",
    "api_secret=\"qX6tNVEwPiCP3QRfGXRNQxZS9V7xgoKPLKog16KEpqDkEwMXTt\"\n",
    "access_token=\"897478702128275457-Hwuo5H4mnwHzLpx3rWllgwxKcFFmYkE\"\n",
    "access_secret=\"yImFYpM19tCzGSlvGn8inPnzUirWxlnGTurUc6cpvCK8R\""
   ]
  },
  {
   "cell_type": "code",
   "execution_count": 5,
   "metadata": {},
   "outputs": [],
   "source": [
    "auth=tweepy.OAuthHandler(api_key,api_secret)\n",
    "auth.set_access_token(access_token,access_secret)\n",
    "api=tweepy.API(auth)\n",
    "tweets=api.user_timeline('ShashiTharoor',page=1,count=200)"
   ]
  },
  {
   "cell_type": "code",
   "execution_count": 6,
   "metadata": {},
   "outputs": [
    {
     "data": {
      "text/plain": [
       "'Jawaharlal Nehru remains the only Indian Prime Minister to be greeted on arrival at the airport by a US President —… https://t.co/7VTaiIGDlV'"
      ]
     },
     "execution_count": 6,
     "metadata": {},
     "output_type": "execute_result"
    }
   ],
   "source": [
    "tweets[0].text"
   ]
  },
  {
   "cell_type": "code",
   "execution_count": 10,
   "metadata": {},
   "outputs": [
    {
     "name": "stdout",
     "output_type": "stream",
     "text": [
      "My StXavier’s Kolkata classmate &amp; close friend Reza Beyad, now a businessman living in London, supports a UK charit… https://t.co/6xMmexIosX\n"
     ]
    }
   ],
   "source": [
    "tweets[1].text"
   ]
  },
  {
   "cell_type": "code",
   "execution_count": 9,
   "metadata": {},
   "outputs": [
    {
     "name": "stdout",
     "output_type": "stream",
     "text": [
      "['__class__', '__delattr__', '__dict__', '__dir__', '__doc__', '__eq__', '__format__', '__ge__', '__getattribute__', '__getstate__', '__gt__', '__hash__', '__init__', '__init_subclass__', '__le__', '__lt__', '__module__', '__ne__', '__new__', '__reduce__', '__reduce_ex__', '__repr__', '__setattr__', '__sizeof__', '__str__', '__subclasshook__', '__weakref__', '_api', '_json', 'author', 'contributors', 'coordinates', 'created_at', 'destroy', 'entities', 'favorite', 'favorite_count', 'favorited', 'geo', 'id', 'id_str', 'in_reply_to_screen_name', 'in_reply_to_status_id', 'in_reply_to_status_id_str', 'in_reply_to_user_id', 'in_reply_to_user_id_str', 'is_quote_status', 'lang', 'parse', 'parse_list', 'place', 'retweet', 'retweet_count', 'retweeted', 'retweets', 'source', 'source_url', 'text', 'truncated', 'user']\n"
     ]
    }
   ],
   "source": [
    "print(dir(tweets[0])) #we can see different functions which can be used to retrieve some useful data and can be applied on data"
   ]
  },
  {
   "cell_type": "code",
   "execution_count": 11,
   "metadata": {},
   "outputs": [
    {
     "data": {
      "text/plain": [
       "'Twitter for iPhone'"
      ]
     },
     "execution_count": 11,
     "metadata": {},
     "output_type": "execute_result"
    }
   ],
   "source": [
    "tweets[0].source"
   ]
  },
  {
   "cell_type": "code",
   "execution_count": 14,
   "metadata": {},
   "outputs": [
    {
     "data": {
      "text/plain": [
       "'en'"
      ]
     },
     "execution_count": 14,
     "metadata": {},
     "output_type": "execute_result"
    }
   ],
   "source": [
    "tweets[0].lang"
   ]
  },
  {
   "cell_type": "code",
   "execution_count": 15,
   "metadata": {},
   "outputs": [
    {
     "data": {
      "text/plain": [
       "4929"
      ]
     },
     "execution_count": 15,
     "metadata": {},
     "output_type": "execute_result"
    }
   ],
   "source": [
    "tweets[0].favorite_count"
   ]
  },
  {
   "cell_type": "code",
   "execution_count": 16,
   "metadata": {},
   "outputs": [
    {
     "data": {
      "text/plain": [
       "972"
      ]
     },
     "execution_count": 16,
     "metadata": {},
     "output_type": "execute_result"
    }
   ],
   "source": [
    "tweets[0].retweet_count"
   ]
  },
  {
   "cell_type": "code",
   "execution_count": 47,
   "metadata": {},
   "outputs": [
    {
     "data": {
      "text/html": [
       "<div>\n",
       "<style scoped>\n",
       "    .dataframe tbody tr th:only-of-type {\n",
       "        vertical-align: middle;\n",
       "    }\n",
       "\n",
       "    .dataframe tbody tr th {\n",
       "        vertical-align: top;\n",
       "    }\n",
       "\n",
       "    .dataframe thead th {\n",
       "        text-align: right;\n",
       "    }\n",
       "</style>\n",
       "<table border=\"1\" class=\"dataframe\">\n",
       "  <thead>\n",
       "    <tr style=\"text-align: right;\">\n",
       "      <th></th>\n",
       "      <th>source</th>\n",
       "      <th>language</th>\n",
       "      <th>retweet_count</th>\n",
       "      <th>place</th>\n",
       "    </tr>\n",
       "  </thead>\n",
       "  <tbody>\n",
       "    <tr>\n",
       "      <th>0</th>\n",
       "      <td>Twitter for iPhone</td>\n",
       "      <td>en</td>\n",
       "      <td>972</td>\n",
       "      <td>New Delhi &amp; Thiruvananthapuram</td>\n",
       "    </tr>\n",
       "    <tr>\n",
       "      <th>1</th>\n",
       "      <td>Twitter for iPhone</td>\n",
       "      <td>en</td>\n",
       "      <td>28</td>\n",
       "      <td>New Delhi &amp; Thiruvananthapuram</td>\n",
       "    </tr>\n",
       "    <tr>\n",
       "      <th>2</th>\n",
       "      <td>Twitter Web App</td>\n",
       "      <td>en</td>\n",
       "      <td>2680</td>\n",
       "      <td>New Delhi &amp; Thiruvananthapuram</td>\n",
       "    </tr>\n",
       "    <tr>\n",
       "      <th>3</th>\n",
       "      <td>Twitter Web App</td>\n",
       "      <td>en</td>\n",
       "      <td>243</td>\n",
       "      <td>New Delhi &amp; Thiruvananthapuram</td>\n",
       "    </tr>\n",
       "    <tr>\n",
       "      <th>4</th>\n",
       "      <td>Twitter Web App</td>\n",
       "      <td>en</td>\n",
       "      <td>42</td>\n",
       "      <td>New Delhi &amp; Thiruvananthapuram</td>\n",
       "    </tr>\n",
       "  </tbody>\n",
       "</table>\n",
       "</div>"
      ],
      "text/plain": [
       "               source language  retweet_count                           place\n",
       "0  Twitter for iPhone       en            972  New Delhi & Thiruvananthapuram\n",
       "1  Twitter for iPhone       en             28  New Delhi & Thiruvananthapuram\n",
       "2     Twitter Web App       en           2680  New Delhi & Thiruvananthapuram\n",
       "3     Twitter Web App       en            243  New Delhi & Thiruvananthapuram\n",
       "4     Twitter Web App       en             42  New Delhi & Thiruvananthapuram"
      ]
     },
     "execution_count": 47,
     "metadata": {},
     "output_type": "execute_result"
    }
   ],
   "source": [
    "#source,lang,retweet_count,place\n",
    "source_data=[]\n",
    "lang_data=[]\n",
    "retweet_count_data=[]\n",
    "place_data=[]\n",
    "for i in tweets:\n",
    "    source_data.append(i.source)\n",
    "    lang_data.append(i.lang)\n",
    "    retweet_count_data.append(i.retweet_count)\n",
    "    place_data.append(i.user.location)\n",
    "table=pd.DataFrame({'source':source_data,'language':lang_data,'retweet_count':retweet_count_data,'place':place_data})\n",
    "table.head()"
   ]
  },
  {
   "cell_type": "code",
   "execution_count": 48,
   "metadata": {},
   "outputs": [
    {
     "data": {
      "text/html": [
       "<div>\n",
       "<style scoped>\n",
       "    .dataframe tbody tr th:only-of-type {\n",
       "        vertical-align: middle;\n",
       "    }\n",
       "\n",
       "    .dataframe tbody tr th {\n",
       "        vertical-align: top;\n",
       "    }\n",
       "\n",
       "    .dataframe thead th {\n",
       "        text-align: right;\n",
       "    }\n",
       "</style>\n",
       "<table border=\"1\" class=\"dataframe\">\n",
       "  <thead>\n",
       "    <tr style=\"text-align: right;\">\n",
       "      <th></th>\n",
       "      <th>source</th>\n",
       "      <th>language</th>\n",
       "      <th>retweet_count</th>\n",
       "      <th>place</th>\n",
       "    </tr>\n",
       "  </thead>\n",
       "  <tbody>\n",
       "    <tr>\n",
       "      <th>0</th>\n",
       "      <td>Twitter for iPhone</td>\n",
       "      <td>en</td>\n",
       "      <td>988</td>\n",
       "      <td>None</td>\n",
       "    </tr>\n",
       "    <tr>\n",
       "      <th>1</th>\n",
       "      <td>Twitter for iPhone</td>\n",
       "      <td>en</td>\n",
       "      <td>28</td>\n",
       "      <td>None</td>\n",
       "    </tr>\n",
       "    <tr>\n",
       "      <th>2</th>\n",
       "      <td>Twitter Web App</td>\n",
       "      <td>en</td>\n",
       "      <td>2707</td>\n",
       "      <td>None</td>\n",
       "    </tr>\n",
       "    <tr>\n",
       "      <th>3</th>\n",
       "      <td>Twitter Web App</td>\n",
       "      <td>en</td>\n",
       "      <td>244</td>\n",
       "      <td>None</td>\n",
       "    </tr>\n",
       "    <tr>\n",
       "      <th>4</th>\n",
       "      <td>Twitter Web App</td>\n",
       "      <td>en</td>\n",
       "      <td>42</td>\n",
       "      <td>None</td>\n",
       "    </tr>\n",
       "  </tbody>\n",
       "</table>\n",
       "</div>"
      ],
      "text/plain": [
       "               source language  retweet_count place\n",
       "0  Twitter for iPhone       en            988  None\n",
       "1  Twitter for iPhone       en             28  None\n",
       "2     Twitter Web App       en           2707  None\n",
       "3     Twitter Web App       en            244  None\n",
       "4     Twitter Web App       en             42  None"
      ]
     },
     "execution_count": 48,
     "metadata": {},
     "output_type": "execute_result"
    }
   ],
   "source": [
    "source_data1=[]\n",
    "lang_data1=[]\n",
    "retweet_count_data1=[]\n",
    "place_data1=[]\n",
    "for i in range(1,5):\n",
    "    tweets1=api.user_timeline('ShashiTharoor',page=i,count=200)\n",
    "    for i in tweets1:\n",
    "        source_data1.append(i.source)\n",
    "        lang_data1.append(i.lang)\n",
    "        retweet_count_data1.append(i.retweet_count)\n",
    "        place_data1.append(i.place)\n",
    "table1=pd.DataFrame({'source':source_data1,'language':lang_data1,'retweet_count':retweet_count_data1,'place':place_data1})\n",
    "table1.head()"
   ]
  },
  {
   "cell_type": "code",
   "execution_count": 52,
   "metadata": {},
   "outputs": [
    {
     "data": {
      "text/plain": [
       "array(['Twitter for iPhone', 'Twitter for iPhone', 'Twitter Web App',\n",
       "       'Twitter Web App', 'Twitter Web App', 'Twitter for Android',\n",
       "       'Twitter for Android', 'Twitter for Android', 'Twitter for iPhone',\n",
       "       'Twitter for iPhone', 'Twitter for iPhone', 'Twitter for iPhone',\n",
       "       'Twitter Web App', 'Twitter Web App', 'Twitter for iPhone',\n",
       "       'Twitter for iPhone', 'Twitter for iPhone', 'Twitter for iPhone',\n",
       "       'Twitter for iPhone', 'Twitter for iPhone', 'Twitter Web App',\n",
       "       'Twitter Web App', 'Twitter for iPhone', 'Twitter for iPhone',\n",
       "       'Twitter for iPhone', 'Twitter for iPhone', 'Twitter for iPhone',\n",
       "       'Twitter for iPhone', 'Twitter for iPhone', 'Twitter for iPhone',\n",
       "       'Twitter for iPhone', 'Twitter for iPhone', 'Twitter for iPhone',\n",
       "       'Twitter for iPhone', 'Twitter for iPhone', 'Twitter for iPhone',\n",
       "       'Twitter for iPhone', 'Twitter for iPhone', 'Twitter for iPhone',\n",
       "       'Twitter for iPhone', 'Twitter for iPhone', 'Twitter for iPhone',\n",
       "       'Twitter for iPhone', 'Twitter for iPhone', 'Twitter for iPhone',\n",
       "       'Twitter for iPhone', 'Twitter for iPhone', 'Twitter for iPhone',\n",
       "       'Twitter for iPhone', 'Twitter for iPhone', 'Twitter Web App',\n",
       "       'Twitter Web App', 'Twitter for iPhone', 'Twitter for iPhone',\n",
       "       'Twitter for iPhone', 'Twitter for iPhone', 'Twitter for iPhone',\n",
       "       'Twitter for iPhone', 'Twitter for iPhone', 'Twitter for iPhone',\n",
       "       'Twitter Web App', 'Twitter Web App', 'Twitter for Android',\n",
       "       'Twitter for iPhone', 'Twitter for iPhone', 'Twitter Web App',\n",
       "       'Twitter Web App', 'Twitter for iPhone', 'Twitter Web App',\n",
       "       'Twitter for iPhone', 'Twitter for iPhone', 'Twitter Web App',\n",
       "       'Twitter Web App', 'Twitter Web App', 'Twitter Web App',\n",
       "       'Twitter Web App', 'Twitter Web App', 'Twitter Web App',\n",
       "       'Twitter for iPhone', 'Twitter for iPhone', 'Twitter for iPhone',\n",
       "       'Twitter for iPhone', 'Twitter Web App', 'Twitter for Android',\n",
       "       'Twitter for iPhone', 'Twitter for iPhone', 'Twitter for iPhone',\n",
       "       'Twitter for iPhone', 'Twitter for iPhone', 'Twitter Web App',\n",
       "       'Twitter for iPhone', 'Twitter for iPhone', 'Twitter for iPhone',\n",
       "       'Twitter Web App', 'Twitter for iPhone', 'Twitter for iPhone',\n",
       "       'Twitter for iPhone', 'Twitter for iPhone', 'Twitter for iPhone',\n",
       "       'Twitter for iPhone', 'Twitter for iPhone', 'Twitter Web App',\n",
       "       'Twitter Web App', 'Twitter Web App', 'Twitter Web App',\n",
       "       'Twitter for iPhone', 'Twitter Web App', 'Twitter Web App',\n",
       "       'Twitter Web App', 'Twitter Web App', 'Twitter Web App',\n",
       "       'Twitter for iPhone', 'Twitter Web App', 'Twitter Web App',\n",
       "       'Twitter Web App', 'Twitter Web App', 'Twitter Web App',\n",
       "       'Twitter Web App', 'Twitter Web App', 'Twitter Web App',\n",
       "       'Twitter Web App', 'Twitter Web App', 'Twitter Web App',\n",
       "       'Twitter for iPhone', 'Twitter for iPhone', 'Twitter for iPhone',\n",
       "       'Twitter for iPhone', 'Twitter for iPhone', 'Twitter for iPhone',\n",
       "       'Twitter for iPhone', 'Twitter for iPhone', 'Twitter for iPhone',\n",
       "       'Twitter for iPhone', 'Twitter for iPhone', 'Twitter for iPhone',\n",
       "       'Twitter for iPhone', 'Twitter for iPhone', 'Twitter for iPhone',\n",
       "       'Twitter for iPhone', 'Twitter for iPhone', 'Twitter for iPhone',\n",
       "       'Twitter for Android', 'Twitter Web App', 'Twitter for iPhone',\n",
       "       'Twitter Web App', 'Twitter Web App', 'Twitter Web App',\n",
       "       'Twitter Web App', 'Twitter Web App', 'Twitter Web App',\n",
       "       'Twitter Web App', 'Twitter for iPhone', 'Twitter Web App',\n",
       "       'Twitter Web App', 'Twitter Web App', 'Twitter Web App',\n",
       "       'Twitter Web App', 'Twitter Web App', 'Twitter Web App',\n",
       "       'Twitter Web App', 'Twitter Web App', 'Twitter Web App',\n",
       "       'Twitter for iPhone', 'Twitter for iPhone', 'Twitter Web App',\n",
       "       'Twitter for Android', 'Twitter for iPhone', 'Twitter Web App',\n",
       "       'Twitter Web App', 'Twitter for iPhone', 'Twitter for iPhone',\n",
       "       'Twitter for iPhone', 'Twitter Web App', 'Twitter Web App',\n",
       "       'Twitter Web App', 'Twitter Web App', 'Twitter Web App',\n",
       "       'Twitter Web App', 'Twitter Web App', 'Twitter Web App',\n",
       "       'Twitter Web App', 'Twitter Web App', 'Twitter Web App',\n",
       "       'Twitter for iPhone', 'Twitter for iPhone', 'Twitter for iPhone',\n",
       "       'Twitter Web App', 'Twitter Web Client', 'Twitter Web App',\n",
       "       'Twitter Web App', 'Twitter Web App', 'Twitter Web App',\n",
       "       'Twitter Web App', 'Twitter Web App', 'Twitter Web App',\n",
       "       'Twitter Web App', 'Twitter Web App', 'Twitter Web App',\n",
       "       'Twitter Web App', 'Twitter Web App', 'Twitter Web App',\n",
       "       'Twitter for iPhone', 'Twitter Web App', 'Twitter Web App',\n",
       "       'Twitter Web App', 'Twitter Web App', 'Twitter for iPhone',\n",
       "       'Twitter for iPhone', 'Twitter for iPhone', 'Twitter for iPhone',\n",
       "       'Twitter for iPhone', 'Twitter for iPhone', 'Twitter for iPhone',\n",
       "       'Twitter for iPhone', 'Twitter Web App', 'Twitter Web App',\n",
       "       'Twitter for iPhone', 'Twitter for iPhone', 'Twitter for iPhone',\n",
       "       'Twitter for iPhone', 'Twitter for iPhone', 'Twitter for iPhone',\n",
       "       'Twitter for iPhone', 'Twitter for iPhone', 'Twitter for iPhone',\n",
       "       'Twitter for iPhone', 'Twitter for iPhone', 'Twitter Web App',\n",
       "       'Twitter Web App', 'Twitter Web App', 'Twitter Web App',\n",
       "       'Twitter for iPhone', 'Twitter for iPhone', 'Twitter Web App',\n",
       "       'Twitter for Android', 'Twitter for iPhone', 'Twitter for iPhone',\n",
       "       'Twitter Web App', 'Twitter Web App', 'Twitter Web App',\n",
       "       'Twitter Web App', 'Twitter Web App', 'Twitter Web App',\n",
       "       'Twitter Web App', 'Twitter Web App', 'Twitter Web App',\n",
       "       'Twitter for iPhone', 'Twitter for iPhone', 'Twitter for iPhone',\n",
       "       'Twitter Web App', 'Twitter for iPhone', 'Twitter for iPhone',\n",
       "       'Twitter for iPhone', 'Twitter Web App', 'Twitter Web App',\n",
       "       'Twitter Web App', 'Twitter Web App', 'Twitter Web App',\n",
       "       'Twitter Web App', 'Twitter Web App', 'Twitter Web App',\n",
       "       'Twitter Web App', 'Twitter Web App', 'Twitter Web App',\n",
       "       'Twitter Web App', 'Twitter Web App', 'Twitter Web App',\n",
       "       'Twitter for iPhone', 'Twitter for iPhone', 'Twitter for iPhone',\n",
       "       'Twitter for iPhone', 'Twitter for iPhone', 'Twitter Web App',\n",
       "       'Twitter for iPhone', 'Twitter Web App', 'Twitter Web App',\n",
       "       'Twitter Web App', 'Twitter for iPhone', 'Twitter for iPhone',\n",
       "       'Twitter for iPhone', 'Twitter for iPhone', 'Twitter for iPhone',\n",
       "       'Twitter for iPhone', 'Twitter for iPhone', 'Twitter for iPhone',\n",
       "       'Twitter for Android', 'Twitter for iPhone', 'Twitter for iPhone',\n",
       "       'Twitter for iPhone', 'Twitter for iPhone', 'Twitter for iPhone',\n",
       "       'Twitter for iPhone', 'Twitter for iPhone', 'Twitter for iPhone',\n",
       "       'Twitter for iPhone', 'Twitter for iPhone', 'Twitter for iPhone',\n",
       "       'Twitter for iPhone', 'Twitter for iPhone', 'Twitter for iPhone',\n",
       "       'Twitter Web App', 'Twitter Web App', 'Twitter Web App',\n",
       "       'Twitter for iPhone', 'Twitter for iPhone', 'Twitter Web App',\n",
       "       'Twitter Web App', 'Twitter for iPhone', 'Twitter for iPhone',\n",
       "       'Twitter Web App', 'Twitter Web App', 'Twitter Web App',\n",
       "       'Twitter for iPhone', 'Twitter for iPhone', 'Twitter for iPhone',\n",
       "       'Twitter for iPhone', 'Twitter for iPhone', 'Twitter for iPhone',\n",
       "       'Twitter for iPhone', 'Twitter for iPhone', 'Twitter for iPhone',\n",
       "       'Twitter Web App', 'Twitter Web App', 'Twitter Web App',\n",
       "       'Twitter Web App', 'Twitter Web App', 'Twitter for iPhone',\n",
       "       'Twitter for iPhone', 'Twitter for iPhone', 'Twitter Web App',\n",
       "       'Twitter Web App', 'Twitter for iPhone', 'Twitter for iPhone',\n",
       "       'Twitter for iPhone', 'Twitter for iPhone', 'Twitter for iPhone',\n",
       "       'Twitter for iPhone', 'Twitter for iPhone', 'Twitter for iPhone',\n",
       "       'Twitter for iPhone', 'Twitter for iPhone', 'Twitter for iPhone',\n",
       "       'Twitter for iPhone', 'Twitter for iPhone', 'Twitter for iPhone',\n",
       "       'Twitter for iPhone', 'Twitter for iPhone', 'Twitter for iPhone',\n",
       "       'Twitter for iPhone', 'Twitter for iPhone', 'Twitter for iPhone',\n",
       "       'Twitter for iPhone', 'Twitter for iPhone', 'Twitter for iPhone',\n",
       "       'Twitter for iPhone', 'Twitter for iPhone', 'Twitter for iPhone',\n",
       "       'Twitter Web App', 'Twitter Web App', 'Twitter for iPhone',\n",
       "       'Twitter Web App', 'Twitter Web App', 'Twitter Web App',\n",
       "       'Twitter Web App', 'Twitter Web App', 'Twitter Web App',\n",
       "       'Twitter Web App', 'Twitter for Android', 'Twitter Web App',\n",
       "       'Twitter Web App', 'Twitter for iPhone', 'Twitter for Android',\n",
       "       'Twitter Web App', 'Twitter Web App', 'Twitter Web App',\n",
       "       'Twitter Web App', 'Twitter Web App', 'Twitter Web App',\n",
       "       'Twitter Web App', 'Twitter Web App', 'Twitter Web App',\n",
       "       'Twitter Web App', 'Twitter Web App', 'Twitter Web App',\n",
       "       'Twitter for iPhone', 'Twitter for iPhone', 'Twitter for iPhone',\n",
       "       'Twitter for iPhone', 'Twitter for iPhone', 'Twitter for iPhone',\n",
       "       'Twitter for iPhone', 'Twitter Web App', 'Twitter Web App',\n",
       "       'Twitter Web App', 'Twitter for iPhone', 'Twitter for iPhone',\n",
       "       'Twitter Web App', 'Twitter for iPhone', 'Twitter for iPhone',\n",
       "       'Twitter Web App', 'Twitter Web App', 'Twitter for iPhone',\n",
       "       'Twitter for iPhone', 'Twitter for iPhone', 'Twitter for iPhone',\n",
       "       'Twitter for iPhone', 'Twitter for iPhone', 'Twitter Web App',\n",
       "       'Twitter Web App', 'Twitter Web App', 'Twitter Web App',\n",
       "       'Twitter for iPhone', 'Twitter for iPhone', 'Twitter for Android',\n",
       "       'Twitter for iPhone', 'Twitter for Android', 'Twitter for Android',\n",
       "       'Twitter for iPhone', 'Twitter for iPhone', 'Twitter for iPhone',\n",
       "       'Twitter Web App', 'Twitter Web App', 'Twitter Web App',\n",
       "       'Twitter Web App', 'Twitter Web App', 'Twitter for iPhone',\n",
       "       'Twitter for iPhone', 'Twitter for iPhone', 'Twitter for iPhone',\n",
       "       'Twitter Web App', 'Twitter Web App', 'Twitter Web App',\n",
       "       'Twitter Web App', 'Twitter Web App', 'Twitter Web App',\n",
       "       'Twitter Web App', 'Twitter Web App', 'Twitter Web App',\n",
       "       'Twitter for iPhone', 'Twitter for iPhone', 'Twitter Web App',\n",
       "       'Twitter for iPhone', 'Twitter Web App', 'Twitter for iPhone',\n",
       "       'Twitter Web App', 'Twitter for Android', 'Twitter for iPhone',\n",
       "       'Twitter for iPhone', 'Twitter for iPhone', 'Twitter for iPhone',\n",
       "       'Twitter for iPhone', 'Twitter for iPhone', 'Twitter for iPhone',\n",
       "       'Twitter for iPhone', 'Twitter for Android', 'Twitter Web App',\n",
       "       'Twitter for iPhone', 'Twitter for iPhone', 'Twitter for iPhone',\n",
       "       'Twitter for iPhone', 'Twitter for Android', 'Twitter Web App',\n",
       "       'Twitter Web App', 'Twitter for iPhone', 'Twitter Web App',\n",
       "       'Twitter Web App', 'Twitter Web App', 'Twitter Web App',\n",
       "       'Twitter for iPhone', 'Twitter for iPhone', 'Twitter for iPhone',\n",
       "       'Twitter for iPhone', 'Twitter for iPhone', 'Twitter for Android',\n",
       "       'Twitter for iPhone', 'Twitter for iPhone', 'Twitter for iPhone',\n",
       "       'Twitter Web App', 'Twitter Web App', 'Twitter Web App',\n",
       "       'Twitter for Android', 'Twitter for iPhone', 'Twitter for iPhone',\n",
       "       'Twitter for iPhone', 'Twitter for iPhone', 'Twitter for iPhone',\n",
       "       'Twitter for iPhone', 'Twitter for iPhone', 'Twitter for iPhone',\n",
       "       'Twitter for iPhone', 'Twitter for iPhone', 'Twitter for iPhone',\n",
       "       'Twitter for iPhone', 'Twitter Web App', 'Twitter for iPhone',\n",
       "       'Twitter for iPhone', 'Twitter for iPhone', 'Twitter for iPhone',\n",
       "       'Twitter for iPhone', 'Twitter for iPhone', 'Twitter for iPhone',\n",
       "       'Twitter for iPhone', 'Twitter for iPhone', 'Twitter for iPhone',\n",
       "       'Twitter for Android', 'Twitter for iPhone', 'Twitter Web App',\n",
       "       'Twitter Web App', 'Twitter Web App', 'Twitter Web App',\n",
       "       'Twitter Web App', 'Twitter Web App', 'Twitter Web App',\n",
       "       'Twitter Web App', 'Twitter Web App', 'Twitter Web App',\n",
       "       'Twitter Web App', 'Twitter Web App', 'Twitter Web App',\n",
       "       'Twitter for iPhone', 'Twitter for iPhone', 'Twitter for iPhone',\n",
       "       'Twitter for iPhone', 'Twitter for Android', 'Twitter for iPhone',\n",
       "       'Twitter Web App', 'Twitter Web App', 'Twitter Web App',\n",
       "       'Twitter Web App', 'Twitter Web App', 'Twitter Web App',\n",
       "       'Twitter for Android', 'Twitter Web App', 'Twitter Web App',\n",
       "       'Twitter Web App', 'Twitter for iPhone', 'Twitter for Android',\n",
       "       'Twitter for iPhone', 'Twitter for iPhone', 'Twitter Web App',\n",
       "       'Twitter Web App', 'Twitter Web App', 'Twitter Web App',\n",
       "       'Twitter Web App', 'Twitter Web App', 'Twitter Web App',\n",
       "       'Twitter Web App', 'Twitter for iPhone', 'Twitter for iPhone',\n",
       "       'Twitter for iPhone', 'Twitter for iPhone', 'Twitter Web App',\n",
       "       'Twitter Web App', 'Twitter for iPhone', 'Twitter for iPhone',\n",
       "       'Twitter for iPhone', 'Twitter for iPhone', 'Twitter for iPhone',\n",
       "       'Twitter Web App', 'Twitter Web App', 'Twitter Web App',\n",
       "       'Twitter Web App', 'Twitter Web App', 'Twitter Web App',\n",
       "       'Twitter Web App', 'Twitter Web App', 'Twitter Web App',\n",
       "       'Twitter Web App', 'Twitter Web App', 'Twitter Web App',\n",
       "       'Twitter Web App', 'Twitter for iPhone', 'Twitter for Android',\n",
       "       'Twitter for iPhone', 'Twitter Web App', 'Twitter Web App',\n",
       "       'Twitter Web App', 'Twitter Web App', 'Twitter Web App',\n",
       "       'Twitter Web App', 'Twitter Web App', 'Twitter Web App',\n",
       "       'Twitter for iPhone', 'Twitter for iPhone', 'Twitter for iPhone',\n",
       "       'Twitter for iPhone', 'Twitter for iPhone', 'Twitter for iPhone',\n",
       "       'Twitter for iPhone', 'Twitter Web App', 'Twitter Web App',\n",
       "       'Twitter Web App', 'Twitter Web App', 'Twitter Web App',\n",
       "       'Twitter Web App', 'Twitter for iPhone', 'Twitter for iPhone',\n",
       "       'Twitter for iPhone', 'Twitter Web App', 'Twitter Web App',\n",
       "       'Twitter Web App', 'Twitter Web App', 'Twitter Web App',\n",
       "       'Twitter Web App', 'Twitter for iPhone', 'Twitter Web App',\n",
       "       'Twitter Web App', 'Twitter Web App', 'Twitter Web App',\n",
       "       'Twitter Web App', 'Twitter Web App', 'Twitter Web App',\n",
       "       'Twitter Web App', 'Twitter Web App', 'Twitter Web App',\n",
       "       'Twitter Web App', 'Twitter Web App', 'Twitter Web App',\n",
       "       'Twitter Web App', 'Twitter for iPhone', 'Twitter Web App',\n",
       "       'Twitter Web App', 'Twitter Web App', 'Twitter Web App',\n",
       "       'Twitter for iPhone', 'Twitter for iPhone', 'Twitter for iPhone',\n",
       "       'Twitter Web App', 'Twitter Web App', 'Twitter Web App',\n",
       "       'Twitter Web App', 'Twitter Web App', 'Twitter Web App',\n",
       "       'Twitter Web App', 'Twitter Web App', 'Twitter Web App',\n",
       "       'Twitter Web App', 'Twitter for iPhone', 'Twitter for iPhone',\n",
       "       'Twitter for iPhone', 'Twitter for iPhone', 'Twitter for iPhone',\n",
       "       'Twitter for iPhone', 'Twitter for Android', 'Twitter for Android',\n",
       "       'Twitter for Android', 'Twitter for Android', 'Twitter for iPhone',\n",
       "       'Twitter for iPhone', 'Twitter Web App', 'Twitter Web App',\n",
       "       'Twitter Web App', 'Twitter for iPhone', 'Twitter Web App',\n",
       "       'Twitter Web App', 'Twitter Web App', 'Twitter Web App',\n",
       "       'Twitter Web App', 'Twitter Web App', 'Twitter Web App',\n",
       "       'Twitter Web App', 'Twitter for iPhone', 'Twitter for iPhone',\n",
       "       'Twitter Web App', 'Twitter for iPhone', 'Twitter for iPhone',\n",
       "       'Twitter for Android', 'Twitter for iPhone', 'Twitter Web App',\n",
       "       'Twitter Web App', 'Twitter for iPhone', 'Twitter for iPhone',\n",
       "       'Twitter Web App', 'Twitter Web App', 'Twitter Web App',\n",
       "       'Twitter Web App', 'Twitter Web App', 'Twitter Web App',\n",
       "       'Twitter Web App', 'Twitter Web App', 'Twitter for iPhone',\n",
       "       'Twitter for iPhone', 'Twitter for iPhone', 'Twitter Web App',\n",
       "       'Twitter Web App', 'Twitter for iPhone', 'Twitter Web App',\n",
       "       'Twitter Web App', 'Twitter Web App', 'Twitter for iPhone',\n",
       "       'Twitter Web App', 'Twitter Web App', 'Twitter Web App',\n",
       "       'Twitter Web App', 'Twitter for iPhone', 'Twitter Web App',\n",
       "       'Twitter Web App', 'Twitter Web App', 'Twitter Web App',\n",
       "       'Twitter for iPhone', 'Twitter Web App', 'Twitter Web App',\n",
       "       'Twitter Web App', 'Twitter Web App', 'Twitter Web App',\n",
       "       'Twitter Web App', 'Twitter Web App', 'Twitter Web App',\n",
       "       'Twitter Web App', 'Twitter Web App', 'Twitter Web App',\n",
       "       'Twitter Web App', 'Twitter for iPhone', 'Twitter for iPhone',\n",
       "       'Twitter for iPhone', 'Twitter for iPhone', 'Twitter for iPhone',\n",
       "       'Twitter for iPhone', 'Twitter for iPhone', 'Twitter for iPhone',\n",
       "       'Twitter for iPhone', 'Twitter for iPhone', 'Twitter for iPhone',\n",
       "       'Twitter for iPhone', 'Twitter for iPhone', 'Twitter for iPhone',\n",
       "       'Twitter for iPhone', 'Twitter for iPhone', 'Twitter Web Client',\n",
       "       'Twitter for iPhone', 'Twitter for iPhone', 'Twitter for iPhone',\n",
       "       'Twitter Web App', 'Twitter for iPhone', 'Twitter for Android',\n",
       "       'Twitter for iPhone', 'Twitter for iPhone', 'Twitter for iPhone',\n",
       "       'Twitter Web App', 'Twitter for iPhone', 'Twitter for iPhone',\n",
       "       'Twitter Web App', 'Twitter Web App', 'Twitter for iPhone',\n",
       "       'Twitter for iPhone', 'Twitter for iPhone', 'Twitter for iPhone',\n",
       "       'Twitter for iPhone', 'Twitter for iPhone', 'Twitter Web App',\n",
       "       'Twitter Web App', 'Twitter for iPhone', 'Twitter for iPhone',\n",
       "       'Twitter for iPhone', 'Twitter Web App', 'Twitter Web App',\n",
       "       'Twitter for iPhone', 'Twitter Web App', 'Twitter for iPhone',\n",
       "       'Twitter for iPhone', 'Twitter for iPhone', 'Twitter Web App',\n",
       "       'Twitter Web App', 'Twitter Web App', 'Twitter Web Client',\n",
       "       'Twitter Web Client', 'Twitter Web Client', 'Twitter Web Client',\n",
       "       'Twitter Web Client', 'Twitter Web Client', 'Twitter Web Client',\n",
       "       'Twitter Web Client', 'Twitter Web Client', 'Twitter for iPhone',\n",
       "       'Twitter for iPhone', 'Twitter for iPhone', 'Twitter for iPhone',\n",
       "       'Twitter for iPhone', 'Twitter Web Client', 'Twitter Web Client',\n",
       "       'Twitter Web Client', 'Twitter Web Client', 'Twitter for iPhone',\n",
       "       'Twitter for iPhone', 'Twitter Web Client', 'Twitter Web Client',\n",
       "       'Twitter Web Client', 'Twitter Web Client', 'Twitter Web Client',\n",
       "       'Twitter Web Client', 'Twitter for iPhone', 'Twitter for iPhone',\n",
       "       'Twitter for iPhone', 'Twitter Web Client', 'Twitter Web Client',\n",
       "       'Twitter Web Client', 'Twitter Web Client', 'Twitter Web Client'],\n",
       "      dtype=object)"
      ]
     },
     "execution_count": 52,
     "metadata": {},
     "output_type": "execute_result"
    }
   ],
   "source": [
    "table1['source'].values"
   ]
  },
  {
   "cell_type": "code",
   "execution_count": 41,
   "metadata": {},
   "outputs": [],
   "source": [
    "t=api.search('Pakistan',count=200)"
   ]
  },
  {
   "cell_type": "code",
   "execution_count": 42,
   "metadata": {},
   "outputs": [
    {
     "data": {
      "text/plain": [
       "'RT @Sanjay_Dixit: Prophetism preaching exclusive God has been the biggest curse for humanity. Nothing illustrates it better than the fate o…'"
      ]
     },
     "execution_count": 42,
     "metadata": {},
     "output_type": "execute_result"
    }
   ],
   "source": [
    "t[0].text"
   ]
  },
  {
   "cell_type": "code",
   "execution_count": 51,
   "metadata": {},
   "outputs": [
    {
     "data": {
      "text/html": [
       "<div>\n",
       "<style scoped>\n",
       "    .dataframe tbody tr th:only-of-type {\n",
       "        vertical-align: middle;\n",
       "    }\n",
       "\n",
       "    .dataframe tbody tr th {\n",
       "        vertical-align: top;\n",
       "    }\n",
       "\n",
       "    .dataframe thead th {\n",
       "        text-align: right;\n",
       "    }\n",
       "</style>\n",
       "<table border=\"1\" class=\"dataframe\">\n",
       "  <thead>\n",
       "    <tr style=\"text-align: right;\">\n",
       "      <th></th>\n",
       "      <th>source</th>\n",
       "      <th>language</th>\n",
       "      <th>retweet_count</th>\n",
       "      <th>place</th>\n",
       "      <th>created_at</th>\n",
       "    </tr>\n",
       "  </thead>\n",
       "  <tbody>\n",
       "    <tr>\n",
       "      <th>0</th>\n",
       "      <td>Twitter for iPhone</td>\n",
       "      <td>en</td>\n",
       "      <td>2530</td>\n",
       "      <td>None</td>\n",
       "      <td>2019-09-25 03:17:52</td>\n",
       "    </tr>\n",
       "    <tr>\n",
       "      <th>1</th>\n",
       "      <td>Twitter Media Studio</td>\n",
       "      <td>en</td>\n",
       "      <td>5750</td>\n",
       "      <td>None</td>\n",
       "      <td>2019-09-25 02:13:52</td>\n",
       "    </tr>\n",
       "    <tr>\n",
       "      <th>2</th>\n",
       "      <td>Twitter Media Studio</td>\n",
       "      <td>en</td>\n",
       "      <td>4095</td>\n",
       "      <td>None</td>\n",
       "      <td>2019-09-25 01:37:33</td>\n",
       "    </tr>\n",
       "    <tr>\n",
       "      <th>3</th>\n",
       "      <td>Twitter Media Studio</td>\n",
       "      <td>en</td>\n",
       "      <td>2443</td>\n",
       "      <td>None</td>\n",
       "      <td>2019-09-25 01:36:34</td>\n",
       "    </tr>\n",
       "    <tr>\n",
       "      <th>4</th>\n",
       "      <td>Twitter Media Studio</td>\n",
       "      <td>en</td>\n",
       "      <td>3848</td>\n",
       "      <td>None</td>\n",
       "      <td>2019-09-25 01:35:37</td>\n",
       "    </tr>\n",
       "  </tbody>\n",
       "</table>\n",
       "</div>"
      ],
      "text/plain": [
       "                 source language  retweet_count place          created_at\n",
       "0    Twitter for iPhone       en           2530  None 2019-09-25 03:17:52\n",
       "1  Twitter Media Studio       en           5750  None 2019-09-25 02:13:52\n",
       "2  Twitter Media Studio       en           4095  None 2019-09-25 01:37:33\n",
       "3  Twitter Media Studio       en           2443  None 2019-09-25 01:36:34\n",
       "4  Twitter Media Studio       en           3848  None 2019-09-25 01:35:37"
      ]
     },
     "execution_count": 51,
     "metadata": {},
     "output_type": "execute_result"
    }
   ],
   "source": [
    "source_nm=[]\n",
    "lang_nm=[]\n",
    "retweet_count_nm=[]\n",
    "place_nm=[]\n",
    "created_at_nm=[]\n",
    "for i in range(1,12):\n",
    "    tweets_nm=api.user_timeline('narendramodi',page=i,count=200)\n",
    "    for i in tweets_nm:\n",
    "        source_nm.append(i.source)\n",
    "        lang_nm.append(i.lang)\n",
    "        retweet_count_nm.append(i.retweet_count)\n",
    "        place_nm.append(i.place)\n",
    "        created_at_nm.append(i.created_at)\n",
    "table_nm=pd.DataFrame({'source':source_nm,'language':lang_nm,'retweet_count':retweet_count_nm,'place':place_nm,\n",
    "                    'created_at':created_at_nm})\n",
    "table_nm.head()"
   ]
  },
  {
   "cell_type": "code",
   "execution_count": null,
   "metadata": {},
   "outputs": [],
   "source": []
  }
 ],
 "metadata": {
  "kernelspec": {
   "display_name": "Python 3",
   "language": "python",
   "name": "python3"
  },
  "language_info": {
   "codemirror_mode": {
    "name": "ipython",
    "version": 3
   },
   "file_extension": ".py",
   "mimetype": "text/x-python",
   "name": "python",
   "nbconvert_exporter": "python",
   "pygments_lexer": "ipython3",
   "version": "3.7.3"
  }
 },
 "nbformat": 4,
 "nbformat_minor": 2
}
